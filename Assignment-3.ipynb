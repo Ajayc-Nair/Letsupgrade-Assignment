{
 "cells": [
  {
   "cell_type": "markdown",
   "metadata": {},
   "source": [
    "# Question 1"
   ]
  },
  {
   "cell_type": "code",
   "execution_count": 1,
   "metadata": {},
   "outputs": [
    {
     "name": "stdout",
     "output_type": "stream",
     "text": [
      "Enter the 1st number: 5\n",
      "Enter the 2nd number: 8\n",
      "Enter the 3rd number: 3\n",
      "THE LARGEST NUMBER IS:  8\n"
     ]
    }
   ],
   "source": [
    "No_1=int(input(\"Enter the 1st number: \"))\n",
    "No_2=int(input(\"Enter the 2nd number: \"))\n",
    "No_3=int(input(\"Enter the 3rd number: \"))\n",
    "if (No_1 > No_2) and (No_1 > No_3):\n",
    "    largest=No_1\n",
    "elif (No_2 > No_1) and (No_2 > No_3):\n",
    "    largest=No_2\n",
    "else:\n",
    "    largest=No_3\n",
    "print(\"THE LARGEST NUMBER IS: \",largest)"
   ]
  },
  {
   "cell_type": "markdown",
   "metadata": {},
   "source": [
    "# Question 2"
   ]
  },
  {
   "cell_type": "code",
   "execution_count": 2,
   "metadata": {},
   "outputs": [
    {
     "name": "stdout",
     "output_type": "stream",
     "text": [
      "The string is a Palindrome\n"
     ]
    }
   ],
   "source": [
    "string='AjayyajA'\n",
    "string=string.casefold()\n",
    "reverse=reversed(string)\n",
    "if list(string)==list(reverse):\n",
    "    print(\"The string is a Palindrome\")\n",
    "else:\n",
    "    print(\"The string is not a Palindrome\")"
   ]
  },
  {
   "cell_type": "markdown",
   "metadata": {},
   "source": [
    "# Question 3"
   ]
  },
  {
   "cell_type": "code",
   "execution_count": 4,
   "metadata": {},
   "outputs": [
    {
     "name": "stdout",
     "output_type": "stream",
     "text": [
      "Enter the String: InDIaN aRMy is AN emOTIOn\n",
      "LOWERCASE:  9\n",
      "UPPERCASE:  12\n"
     ]
    }
   ],
   "source": [
    "string=input(\"Enter the String: \")\n",
    "upper=0\n",
    "lower=0\n",
    "for i in range(len(string)):\n",
    "    if(string[i]>='a' and string[i]<='z'):\n",
    "        lower+=1\n",
    "    elif(string[i]>='A' and string[i]<='Z'):\n",
    "        upper+=1\n",
    "print(\"LOWERCASE: \",lower)\n",
    "print(\"UPPERCASE: \",upper)"
   ]
  },
  {
   "cell_type": "markdown",
   "metadata": {},
   "source": [
    "# Question 4"
   ]
  },
  {
   "cell_type": "code",
   "execution_count": 5,
   "metadata": {},
   "outputs": [
    {
     "name": "stdout",
     "output_type": "stream",
     "text": [
      "SUM OF NUMBERS IN THE LIST:  100\n"
     ]
    }
   ],
   "source": [
    "def sumlist(list1):\n",
    "    totsum = 0\n",
    "    for i in list1:\n",
    "        totsum = totsum+i\n",
    "    return totsum\n",
    "print(\"SUM OF NUMBERS IN THE LIST: \",sumlist([1,3,5,7,9,11,13,15,17,19]))"
   ]
  },
  {
   "cell_type": "markdown",
   "metadata": {},
   "source": [
    "# Question 5"
   ]
  },
  {
   "cell_type": "code",
   "execution_count": 7,
   "metadata": {},
   "outputs": [
    {
     "name": "stdout",
     "output_type": "stream",
     "text": [
      "PRODUCT OF NUMBERS IN THE LIST:  3628800\n"
     ]
    }
   ],
   "source": [
    "def mullist(list1):\n",
    "    totmul = 1\n",
    "    for i in list1:\n",
    "        totmul = totmul*i\n",
    "    return totmul\n",
    "print(\"PRODUCT OF NUMBERS IN THE LIST: \",mullist([1,2,3,4,5,6,7,8,9,10]))"
   ]
  },
  {
   "cell_type": "markdown",
   "metadata": {},
   "source": [
    "# Question 6"
   ]
  },
  {
   "cell_type": "code",
   "execution_count": 9,
   "metadata": {},
   "outputs": [
    {
     "name": "stdout",
     "output_type": "stream",
     "text": [
      "ORIGINAL LIST:  [15, 25, 15, 55, 25, 85, 65, 45, 75, 25, 35, 65, 75]\n",
      "UNIQUE LIST:  [65, 35, 75, 45, 15, 85, 55, 25]\n"
     ]
    }
   ],
   "source": [
    "list1=[15,25,15,55,25,85,65,45,75,25,35,65,75]\n",
    "print(\"ORIGINAL LIST: \",list1)\n",
    "list2=set(list1)\n",
    "list3=list(list2)\n",
    "print(\"UNIQUE LIST: \",list3)"
   ]
  },
  {
   "cell_type": "code",
   "execution_count": null,
   "metadata": {},
   "outputs": [],
   "source": []
  }
 ],
 "metadata": {
  "kernelspec": {
   "display_name": "Python 3",
   "language": "python",
   "name": "python3"
  },
  "language_info": {
   "codemirror_mode": {
    "name": "ipython",
    "version": 3
   },
   "file_extension": ".py",
   "mimetype": "text/x-python",
   "name": "python",
   "nbconvert_exporter": "python",
   "pygments_lexer": "ipython3",
   "version": "3.8.5"
  }
 },
 "nbformat": 4,
 "nbformat_minor": 4
}
