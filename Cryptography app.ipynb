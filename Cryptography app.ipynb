{
 "cells": [
  {
   "cell_type": "code",
   "execution_count": 1,
   "metadata": {},
   "outputs": [
    {
     "name": "stdout",
     "output_type": "stream",
     "text": [
      "Collecting onetimepadNote: you may need to restart the kernel to use updated packages.\n",
      "  Downloading onetimepad-1.4.tar.gz (3.3 kB)\n",
      "Building wheels for collected packages: onetimepad\n",
      "  Building wheel for onetimepad (setup.py): started\n",
      "  Building wheel for onetimepad (setup.py): finished with status 'done'\n",
      "  Created wheel for onetimepad: filename=onetimepad-1.4-py3-none-any.whl size=3904 sha256=b0ea7b6bac2ee5848442208f7262d896f84e8f85960cb8f98baf3702549542df\n",
      "  Stored in directory: c:\\users\\hp\\appdata\\local\\pip\\cache\\wheels\\64\\1b\\26\\414127c44690b5adf2378ea1912fd1465cb89695669125909c\n",
      "Successfully built onetimepad\n",
      "Installing collected packages: onetimepad\n",
      "Successfully installed onetimepad-1.4\n",
      "\n"
     ]
    }
   ],
   "source": [
    "pip install onetimepad"
   ]
  },
  {
   "cell_type": "markdown",
   "metadata": {},
   "source": [
    "# Cryptography app"
   ]
  },
  {
   "cell_type": "code",
   "execution_count": 2,
   "metadata": {},
   "outputs": [],
   "source": [
    "import onetimepad"
   ]
  },
  {
   "cell_type": "code",
   "execution_count": null,
   "metadata": {},
   "outputs": [
    {
     "name": "stdout",
     "output_type": "stream",
     "text": [
      "WORKING AJAY C\n",
      "WORKING AJAY C\n",
      "WORKING AJAY C\n"
     ]
    }
   ],
   "source": [
    "from tkinter import*\n",
    "root = Tk()\n",
    "root.title(\"CRYPTOGRAPHY APP\")\n",
    "\n",
    "def ENCRYPT_TEXT():\n",
    "    a = var1.get()\n",
    "    ct = onetimepad.encrypt(a,\"Random\")\n",
    "    print(\"WORKING\",a)\n",
    "    \n",
    "    e2.delete(0,END)\n",
    "    e2.insert(END,ct)\n",
    "    \n",
    "    b = var3.get()\n",
    "    dt = onetimepad.decrypt(b,\"Random\")\n",
    "    e3.delete(0,END)\n",
    "    e3.insert(END,dt)\n",
    "#encr   \n",
    "l1 = Label(root,text=\"YOUR TEXT\")\n",
    "l1.grid(row=0,column=0)\n",
    "\n",
    "#decr\n",
    "l3 = Label(root,text=\"ENCRYPTED TEXT\")\n",
    "l3.grid(row=0,column=2)\n",
    "\n",
    "#encr\n",
    "var1 = StringVar()\n",
    "e1 = Entry(root,textvariable=var1)\n",
    "e1.grid(row=0,column=1)\n",
    "\n",
    "#decr\n",
    "var3 = StringVar()\n",
    "e3 = Entry(root,textvariable=var3)\n",
    "e3.grid(row=0,column=3)\n",
    "\n",
    "\n",
    "#encr\n",
    "l2 = Label(root,text=\"ENCRYPTED TEXT\")\n",
    "l2.grid(row=1,column=0)\n",
    "\n",
    "#decr\n",
    "l3 = Label(root,text=\"ORIGINAL TEXT\")\n",
    "l3.grid(row=1,column=2)\n",
    "\n",
    "#encr\n",
    "e2 = Entry(root)\n",
    "e2.grid(row=1,column=1)\n",
    "\n",
    "#decr\n",
    "e3 = Entry(root)\n",
    "e3.grid(row=1,column=3)\n",
    "\n",
    "#encr\n",
    "b1 = Button(root,text=\"SUBMIT\",bg=\"Red\",fg=\"White\",command=ENCRYPT_TEXT)\n",
    "b1.grid(row=2,column=1)\n",
    "\n",
    "#decr\n",
    "b2 = Button(root,text=\"SUBMIT\",bg=\"Red\",fg=\"White\",command=ENCRYPT_TEXT)\n",
    "b2.grid(row=2,column=3)\n",
    "\n",
    "\n",
    "root.mainloop()"
   ]
  },
  {
   "cell_type": "markdown",
   "metadata": {},
   "source": []
  }
 ],
 "metadata": {
  "kernelspec": {
   "display_name": "Python 3",
   "language": "python",
   "name": "python3"
  },
  "language_info": {
   "codemirror_mode": {
    "name": "ipython",
    "version": 3
   },
   "file_extension": ".py",
   "mimetype": "text/x-python",
   "name": "python",
   "nbconvert_exporter": "python",
   "pygments_lexer": "ipython3",
   "version": "3.8.5"
  }
 },
 "nbformat": 4,
 "nbformat_minor": 4
}
