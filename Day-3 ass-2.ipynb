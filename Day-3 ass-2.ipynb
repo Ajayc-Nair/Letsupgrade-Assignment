{
 "cells": [
  {
   "cell_type": "markdown",
   "metadata": {},
   "source": [
    "# Question 1"
   ]
  },
  {
   "cell_type": "code",
   "execution_count": 1,
   "metadata": {},
   "outputs": [
    {
     "name": "stdout",
     "output_type": "stream",
     "text": [
      "LIST BEFORE [1, 5, 8, 4, 2, 1, 1, 9, 8, 6, 8, 4, 5]\n",
      "LIST AFTER REMOVING DUPLICATES [1, 5, 8, 4, 2, 9, 6]\n"
     ]
    }
   ],
   "source": [
    "n=[1,5,8,4,2,1,1,9,8,6,8,4,5]\n",
    "print(\"LIST BEFORE\",n)\n",
    "temp=[]\n",
    "for i in n:\n",
    "    if i not in temp:\n",
    "        temp.append(i)\n",
    "n=temp\n",
    "print(\"LIST AFTER REMOVING DUPLICATES\",n)"
   ]
  },
  {
   "cell_type": "markdown",
   "metadata": {},
   "source": [
    "# Question 2"
   ]
  },
  {
   "cell_type": "code",
   "execution_count": 3,
   "metadata": {},
   "outputs": [
    {
     "name": "stdout",
     "output_type": "stream",
     "text": [
      "[9, 4]\n"
     ]
    }
   ],
   "source": [
    "list_before=[2,5,8,9,6,2,4]\n",
    "list_after=[5,8,6,2,1,2,7]\n",
    "set_diff = set(list_before) - set(list_after)\n",
    "list_diff = list(set_diff)\n",
    "print(list_diff)"
   ]
  },
  {
   "cell_type": "markdown",
   "metadata": {},
   "source": [
    "# Question 3"
   ]
  },
  {
   "cell_type": "code",
   "execution_count": 4,
   "metadata": {},
   "outputs": [
    {
     "name": "stdout",
     "output_type": "stream",
     "text": [
      "a ->  3\n",
      "b ->  2\n",
      "c ->  3\n",
      "d ->  1\n",
      "e ->  2\n",
      "f ->  2\n",
      "g ->  1\n",
      "h ->  1\n"
     ]
    }
   ],
   "source": [
    "list1 = ['a','b','c','a','b','c','d','e','a','f','c','f','g','h','e']\n",
    "frequency = {}\n",
    "for item in list1:\n",
    "    if(item in frequency):\n",
    "        frequency[item] += 1\n",
    "    else:\n",
    "        frequency[item] = 1\n",
    "for key, value in frequency.items():\n",
    "    print(\"% s -> % d\" % (key, value))"
   ]
  },
  {
   "cell_type": "markdown",
   "metadata": {},
   "source": [
    "# Question 4"
   ]
  },
  {
   "cell_type": "code",
   "execution_count": 5,
   "metadata": {},
   "outputs": [
    {
     "name": "stdout",
     "output_type": "stream",
     "text": [
      "Color1-Color2:  ['red', 'orange', 'white']\n",
      "Color2-Color1:  ['black', 'yellow']\n"
     ]
    }
   ],
   "source": [
    "from collections import Counter\n",
    "color1 = [\"red\", \"orange\", \"green\", \"blue\", \"white\"]\n",
    "color2 = [\"black\", \"yellow\", \"green\", \"blue\"]\n",
    "counter1 = Counter(color1)\n",
    "counter2 = Counter(color2)\n",
    "print(\"Color1-Color2: \",list(counter1 - counter2))\n",
    "print(\"Color2-Color1: \",list(counter2 - counter1))"
   ]
  },
  {
   "cell_type": "markdown",
   "metadata": {},
   "source": [
    "# Question 5"
   ]
  },
  {
   "cell_type": "code",
   "execution_count": 10,
   "metadata": {},
   "outputs": [
    {
     "name": "stdout",
     "output_type": "stream",
     "text": [
      "List of words: army airforce navy coastguard paramilitary\n",
      "THE LONGEST WORD IS paramilitary with length 12\n"
     ]
    }
   ],
   "source": [
    "def main():\n",
    "    wordlist = input(\"List of words: \")\n",
    "    longest = 0\n",
    "    for words in wordlist.split():\n",
    "        if len(words) > longest:\n",
    "            longest = len(words)\n",
    "            longest_word = words\n",
    "    print(\"THE LONGEST WORD IS\",longest_word, \"with length\", len(longest_word))\n",
    "main()"
   ]
  },
  {
   "cell_type": "markdown",
   "metadata": {},
   "source": [
    "# Question 6"
   ]
  },
  {
   "cell_type": "code",
   "execution_count": 12,
   "metadata": {},
   "outputs": [
    {
     "name": "stdout",
     "output_type": "stream",
     "text": [
      "{'If': 1, 'a': 2, 'man': 1, 'says': 1, 'he': 2, 'is': 3, 'not': 1, 'afraid': 1, 'of': 1, 'dying,': 1, 'either': 1, 'lying': 1, 'or': 1, 'Gurkha.': 1}\n",
      "\n"
     ]
    }
   ],
   "source": [
    "def sentence(str):\n",
    "    counts = dict()\n",
    "    words = str.split()\n",
    "    for word in words:\n",
    "        if word in counts:\n",
    "            counts[word] += 1\n",
    "        else:\n",
    "            counts[word] = 1\n",
    "    return counts\n",
    "print(sentence('If a man says he is not afraid of dying, he is either lying or is a Gurkha.'))\n",
    "print()"
   ]
  },
  {
   "cell_type": "markdown",
   "metadata": {},
   "source": [
    "# Question 7"
   ]
  },
  {
   "cell_type": "code",
   "execution_count": 14,
   "metadata": {},
   "outputs": [
    {
     "name": "stdout",
     "output_type": "stream",
     "text": [
      "Given String:  indian army is not a job, its an emotion\n",
      "The vowels present in the string are:  {'a': 4, 'e': 1, 'i': 5, 'o': 4, 'u': 0}\n"
     ]
    }
   ],
   "source": [
    "stringg=\"Indian army is not a job, its an emotion\"\n",
    "stringg=stringg.casefold()\n",
    "vowels=\"aeiou\"\n",
    "def vowel_count(string,vowels):\n",
    "    count={}.fromkeys(vowels,0)\n",
    "    for v in string:\n",
    "        if v in count:\n",
    "            count[v]+=1\n",
    "    return count\n",
    "print(\"Given String: \",stringg)\n",
    "print(\"The vowels present in the string are: \",vowel_count(stringg,vowels))"
   ]
  },
  {
   "cell_type": "markdown",
   "metadata": {},
   "source": [
    "# Question 8"
   ]
  },
  {
   "cell_type": "code",
   "execution_count": 16,
   "metadata": {},
   "outputs": [
    {
     "name": "stdout",
     "output_type": "stream",
     "text": [
      "Given number: 50\n",
      "RESULT IS:  {1: 1, 2: 4, 3: 9, 4: 16, 5: 25, 6: 36, 7: 49, 8: 64, 9: 81, 10: 100, 11: 121, 12: 144, 13: 169, 14: 196, 15: 225, 16: 256, 17: 289, 18: 324, 19: 361, 20: 400, 21: 441, 22: 484, 23: 529, 24: 576, 25: 625, 26: 676, 27: 729, 28: 784, 29: 841, 30: 900, 31: 961, 32: 1024, 33: 1089, 34: 1156, 35: 1225, 36: 1296, 37: 1369, 38: 1444, 39: 1521, 40: 1600, 41: 1681, 42: 1764, 43: 1849, 44: 1936, 45: 2025, 46: 2116, 47: 2209, 48: 2304, 49: 2401, 50: 2500}\n"
     ]
    }
   ],
   "source": [
    "n = int(input(\"Given number: \"))\n",
    "d=dict()\n",
    "for x in range(1,n+1):\n",
    "    d[x]=x*x\n",
    "print(\"RESULT IS: \",d)"
   ]
  },
  {
   "cell_type": "markdown",
   "metadata": {},
   "source": [
    "# Question 9"
   ]
  },
  {
   "cell_type": "code",
   "execution_count": 17,
   "metadata": {},
   "outputs": [
    {
     "name": "stdout",
     "output_type": "stream",
     "text": [
      "RESULT IS:  {'a': 400, 'b': 400}\n"
     ]
    }
   ],
   "source": [
    "d1 = {'a':100,'b':200,'c':300}\n",
    "d2 = {'a':300,'b':200,'d':400}\n",
    "d3 = {}\n",
    "for p,q in d1.items():\n",
    "    for x,y in d2.items():\n",
    "        if p==x:\n",
    "            d3[p]=(q+y)\n",
    "print(\"RESULT IS: \",d3)"
   ]
  },
  {
   "cell_type": "markdown",
   "metadata": {},
   "source": [
    "# Question 10"
   ]
  },
  {
   "cell_type": "code",
   "execution_count": 18,
   "metadata": {},
   "outputs": [
    {
     "name": "stdout",
     "output_type": "stream",
     "text": [
      "ORIGINAL LIST:  [{'V': 'S001'}, {'V': 'S002'}, {'VI': 'S001'}, {'VI': 'S005'}, {'VII': 'S005'}, {'V': 'S009'}, {'VIII': 'S007'}]\n",
      "UNIQUE VALUES:  {'S007', 'S009', 'S001', 'S002', 'S005'}\n"
     ]
    }
   ],
   "source": [
    "L = [{\"V\":\"S001\"}, {\"V\": \"S002\"}, {\"VI\": \"S001\"}, {\"VI\": \"S005\"}, {\"VII\":\"S005\"}, {\"V\":\"S009\"},{\"VIII\":\"S007\"}]\n",
    "print(\"ORIGINAL LIST: \",L)\n",
    "u_value = set( val for dic in L for val in dic.values())\n",
    "print(\"UNIQUE VALUES: \",u_value)"
   ]
  },
  {
   "cell_type": "code",
   "execution_count": null,
   "metadata": {},
   "outputs": [],
   "source": []
  }
 ],
 "metadata": {
  "kernelspec": {
   "display_name": "Python 3",
   "language": "python",
   "name": "python3"
  },
  "language_info": {
   "codemirror_mode": {
    "name": "ipython",
    "version": 3
   },
   "file_extension": ".py",
   "mimetype": "text/x-python",
   "name": "python",
   "nbconvert_exporter": "python",
   "pygments_lexer": "ipython3",
   "version": "3.8.5"
  }
 },
 "nbformat": 4,
 "nbformat_minor": 4
}
